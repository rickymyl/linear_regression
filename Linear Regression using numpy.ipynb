{
 "cells": [
  {
   "cell_type": "markdown",
   "metadata": {},
   "source": [
    "# Linear Regression"
   ]
  },
  {
   "cell_type": "code",
   "execution_count": 3,
   "metadata": {},
   "outputs": [],
   "source": [
    "import matplotlib.pyplot as plt\n",
    "import numpy as np\n",
    "import pandas as pd\n",
    "%matplotlib inline"
   ]
  },
  {
   "cell_type": "markdown",
   "metadata": {},
   "source": [
    "### Load testing data"
   ]
  },
  {
   "cell_type": "code",
   "execution_count": 4,
   "metadata": {},
   "outputs": [],
   "source": [
    "df_1d = pd.read_csv('../machine_learning_examples/linear_regression_class/data_1d.csv', header=None)\n",
    "df_1d.columns = [\"X\", \"y\"]"
   ]
  },
  {
   "cell_type": "markdown",
   "metadata": {},
   "source": [
    "# 1-D linear regression\n",
    "### Theory behind\n",
    "\n",
    "Machine learning algorithms are essentially optimisation problems. They usually minmises a cost function through an iterative process such as gradient descent. Linear regression is no exception and the most common cost function used is the squared error represented by the following equation.\n",
    "$$ E = \\sum_{i=1}^N (y_i - \\hat y_i)^2 $$\n",
    "The true value of a given data point is denoted by $y_i$ and the estimated data point $\\hat y_i$. Their difference is the error. To calculate the cost of the model all erros are squared and then summed. In the case of a 1-D linear regression, the analytical solution is simple enough that the use of an optimisation algorithm would not be necessary. All we have to do is take the derivative of the cost function and set it to 0 to locate the turning point. We know this works because the cost function is a parabola and has 1 global minimum. We know that a 1-D linear regression model can be represented by the simple equation of $y = mx + c$. Therefore we can substitute $\\hat y_i$ with this equation and express the cost $E$ as a function of $m$ and $c$. To find the combination of $m$ and $c$ that would produce the lowest cost, we need to take the partial derivative of both parameters respectively. We would then end up with the following equations:\n",
    "\n",
    "\\begin{align}\n",
    "\\frac{\\partial E}{\\partial m} & = \\sum_{i=1}^N 2[y_i-(mx_i+c)](-x_i) \\\\\n",
    "\\frac{\\partial E}{\\partial c} & = \\sum_{i=1}^N 2[y_i-(mx_i+c)](-1)\n",
    "\\end{align}\n",
    "\n",
    "By applying the summation to each term and setting the derivatives to 0. The equations then becomes \n",
    "\n",
    "\\begin{align}\n",
    "0 & = \\sum_{i=1}^N -x_iy_i + \\sum_{i=1}^N mx_i^2 + \\sum_{i=1}^N cx_i \\\\\n",
    "0 & = \\sum_{i=1}^N -y_i + \\sum_{i=1}^N mx_i + \\sum_{i=1}^N c\n",
    "\\end{align}\n",
    "\n",
    "Since c is a constant term $ \\sum_{i=1}^N c $ becomes $cN$. Here we have 2 equations with 2 unknows. By using substitution we can find the solutions for m and c respectively.\n",
    "\n",
    "\\begin{align}\n",
    "m & = \\frac{N\\sum_{i=1}^N x_iy_i - \\sum_{i=1}^N x_i \\sum_{i=1}^N y_i}{N\\sum_{i=1}^N x_i^2 - (\\sum_{i=1}^N x_i)^2} \\\\\n",
    "c & = \\frac{N\\sum_{i=1}^N x_i \\sum_{i=1}^N x_iy_i - \\sum_{i=1}^N y_i \\sum_{i=1}^N x_i^2}{N\\sum_{i=1}^N x_i^2 - (\\sum_{i=1}^N x_i)^2}\n",
    "\\end{align}\n",
    "\n",
    "To get rid of the confusing summation sign we can multiply $\\frac{1}{N^2}$ to both the top and bottom of the equations. This is esentially representing each terms as means instead of sums. This is also the final solution that is implemented into the fitting function in the class LinearRegression_1D.\n",
    "\n",
    "\\begin{align}\n",
    "m & = \\frac{\\overline{xy} - \\bar x \\bar y}{\\overline{x^2} - \\bar x ^2} \\\\\n",
    "c & = \\frac{\\bar y \\overline{x^2} - \\bar x \\overline{xy}}{\\overline{x^2} - \\bar x^2}\n",
    "\\end{align}\n",
    "\n",
    "### $R^2$ metric\n",
    "\n",
    "To measure how good a regression is, $R^2$ is normally used. The definition of $R^2$ is as follows:\n",
    "\n",
    "$$R^2 = 1 - \\frac{\\sum_i^N (y_i - \\hat y_i))^2}{\\sum_i^N (y_i - \\bar y))^2}$$\n",
    "\n",
    "The top of the term on the R.H.S is called sum of squared residual ($SS_{res}$) which is the same as the cost function we used in optimisation. The bottom term is called the sum of squared error total ($SS_{tot}$)which is the sum of squared error that we would get if we just assign the mean of array $y$ to every prediction. The intuition is as follows; if we had a very good prediction, $SS_{res}$ would be small hence the the term on the R.H.S tends to 0. 1 - 0 is 1 so the $R^2$ would be very close to 1. On the other hand if our prediction is no different to blindly assigning average values, the term on the R.H.S would tend to 1 and hence $R^2$ would approach 0."
   ]
  },
  {
   "cell_type": "code",
   "execution_count": 41,
   "metadata": {},
   "outputs": [],
   "source": [
    "################################################################################\n",
    "\"\"\"\n",
    "Implementation of a 1-D linear regression.\n",
    "\"\"\"\n",
    "class LinearRegression_1D():\n",
    "\n",
    "    def __init__(self):\n",
    "        self.coef = None\n",
    "        self.intp = None\n",
    "        \n",
    "    def fit(self, x, y):\n",
    "        \"\"\"Fit 1D linear regression using analytical solution,\n",
    "        \n",
    "        We assume a squared error cost function. In order to minmise the cost \n",
    "        function we take the derivative and find the turning point. Since it is\n",
    "        a 1D linear regression we assume that there is only 1 global minimum.\n",
    "        \"\"\"\n",
    "        a = (np.mean(x*y) - np.mean(x) * np.mean(y))/ \\\n",
    "            ((np.mean(x**2) - (np.mean(x))**2))\n",
    "        b = (np.mean(y) * np.mean(x**2) - np.mean(x) * np.mean(x*y))/ \\\n",
    "            ((np.mean(x**2) - (np.mean(x))**2))\n",
    "        # print(\"Model fitted\")\n",
    "        # print(f\"Slope is {a}\")\n",
    "        # print(f\"Intercept is {b}\")\n",
    "        self.coef = a\n",
    "        self.intp = b\n",
    "        return self\n",
    "\n",
    "    def predict(self, x):\n",
    "        \"\"\"Using the fitted model to predict new data.\"\"\"\n",
    "        result = self.coef * x + self.intp \n",
    "        return result\n",
    "    \n",
    "    def __repr__(self):\n",
    "        \"\"\"Nice print out of class\"\"\"\n",
    "        return (f\"LinearRegression_1D()\\nCoefficient is {self.coef}\"\n",
    "            f\"\\nIntercept is {self.intp}\")\n",
    "    \n",
    "    def r_squared(self, X, y):\n",
    "        \"\"\"Calualte R^2 for the regression.\"\"\"\n",
    "        y_hat = self.predict(X)\n",
    "        return 1 - np.sum(((y - y_hat)**2) / np.sum((y - np.mean(y))**2))\n",
    "        \n",
    "\n",
    "################################################################################"
   ]
  },
  {
   "cell_type": "markdown",
   "metadata": {},
   "source": [
    "### Test function"
   ]
  },
  {
   "cell_type": "code",
   "execution_count": 43,
   "metadata": {},
   "outputs": [
    {
     "name": "stdout",
     "output_type": "stream",
     "text": [
      "12.727484913083217\n",
      "0.9911838202977805\n"
     ]
    }
   ],
   "source": [
    "# Define features X and labels y\n",
    "X = df_1d[\"X\"].values.reshape(-1, 1)\n",
    "y = df_1d[\"y\"].values.reshape(-1, 1)\n",
    "\n",
    "# Create and fit model\n",
    "reg = LinearRegression_1D()\n",
    "model = reg.fit(X, y)\n",
    "\n",
    "# Perform prediction\n",
    "print(model.predict(5))\n",
    "print(model.r_squared(X, y))"
   ]
  },
  {
   "cell_type": "markdown",
   "metadata": {},
   "source": [
    "### Plot data and prediction"
   ]
  },
  {
   "cell_type": "code",
   "execution_count": 26,
   "metadata": {},
   "outputs": [
    {
     "data": {
      "image/png": "[encoded data removed]",
      "text/plain": [
       "<Figure size 720x504 with 1 Axes>"
      ]
     },
     "metadata": {},
     "output_type": "display_data"
    }
   ],
   "source": [
    "fig = plt.figure(figsize=(10, 7))\n",
    "plt.scatter(X, y)\n",
    "prediction_X = [X.min(), X.max()]\n",
    "prediction_y = [model.predict(data) for data in prediction_X]\n",
    "plt.plot(prediction_X, prediction_y, label=f\"Coef {round(model.coef, 2)}\", color='r')\n",
    "plt.xlabel(\"X\")\n",
    "plt.ylabel(\"y\")\n",
    "plt.title(\"Linear regression Model on df_1d data\")\n",
    "plt.legend()\n",
    "plt.show()"
   ]
  },
  {
   "cell_type": "markdown",
   "metadata": {},
   "source": [
    "# Multiple Linear Regression\n",
    "\n",
    "The difference between a 1-D linear regression and multiple linear regression is that now we have more than 1 features in the predictors. This means $x$ has become a matrix rather than a vector. The representing linear equation now becomes\n",
    "$$ y = w^TX + c$$\n",
    "We can also include the intercept term into the feature x by adding a column of 1s. Therefore the equation futher simplifies to\n",
    "$$ y = w^TX$$"
   ]
  },
  {
   "cell_type": "code",
   "execution_count": null,
   "metadata": {},
   "outputs": [],
   "source": [
    "class LinearRegression():\n",
    "    \n",
    "    def fit(self, X, y, eta, max_iter):\n",
    "        w = self._initialise_weight(X)\n",
    "        for i in range(max_iter):\n",
    "            pred = predict()\n",
    "            cost = self._calculate_cost()\n",
    "        pass\n",
    "    \n",
    "    def predict(self, X):\n",
    "        pass\n",
    "    \n",
    "    def _calculate_cost(self, y_true, y_pred, cost_function=\"mse\"):\n",
    "        \"\"\"Calculate the cost for this iteration.\"\"\"\n",
    "        if cost_function == \"mse\":\n",
    "            pass\n",
    "        elif cost_function == \"mae\":\n",
    "            pass\n",
    "        else:\n",
    "            raise Exception(\"Only mae or mse are allowed as cost functions\")\n",
    "            \n",
    "    def _initialise_weight(self, X):\n",
    "        \"\"\"Initialise the weight for linear regression.\"\"\"\n",
    "        return np.ones(X.shape)\n",
    "    \n",
    "    def _update_weight(self, w, eta):\n",
    "        \"\"\"This function uses gradient descent to update current weight.\"\"\"\n",
    "        pass\n",
    "    \n"
   ]
  }
 ],
 "metadata": {
  "kernelspec": {
   "display_name": "Python 3",
   "language": "python",
   "name": "python3"
  },
  "language_info": {
   "codemirror_mode": {
    "name": "ipython",
    "version": 3
   },
   "file_extension": ".py",
   "mimetype": "text/x-python",
   "name": "python",
   "nbconvert_exporter": "python",
   "pygments_lexer": "ipython3",
   "version": "3.6.5"
  }
 },
 "nbformat": 4,
 "nbformat_minor": 2
}
